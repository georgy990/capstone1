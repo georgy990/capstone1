{
 "cells": [
  {
   "cell_type": "markdown",
   "id": "8afd3236-2b40-420c-b3b5-dc89c19832b0",
   "metadata": {
    "tags": []
   },
   "source": [
    "# Project: Developing a E-commerce platform\n"
   ]
  },
  {
   "cell_type": "code",
   "execution_count": 1,
   "id": "86d9f45d",
   "metadata": {
    "tags": []
   },
   "outputs": [],
   "source": [
    "users = [{'username': 'U1', 'password': 'P1'}, {'username': 'U2', 'password': \"P2\"}] # list of dictionaries\n",
    "categories = {'footwear': [], 'clothing': [], 'Electronics': []}\n",
    "carts = {}\n",
    "payments = ['Credit_cards', 'Debit_Card', \"Cash\", \"UPI\"]"
   ]
  },
  {
   "cell_type": "code",
   "execution_count": 2,
   "id": "6431930c",
   "metadata": {},
   "outputs": [
    {
     "name": "stdout",
     "output_type": "stream",
     "text": [
      "<class 'list'>\n",
      "<class 'dict'>\n",
      "<class 'dict'>\n",
      "<class 'list'>\n"
     ]
    }
   ],
   "source": [
    "print(type(users))\n",
    "print(type(categories))\n",
    "print(type(carts))\n",
    "print(type(payments))"
   ]
  },
  {
   "cell_type": "code",
   "execution_count": 3,
   "id": "a2d4334c",
   "metadata": {},
   "outputs": [],
   "source": [
    "def add_user(username, password):\n",
    "    # Check if the username already exists, Username will be unique\n",
    "    for user in users:\n",
    "        if user['username'] == username:\n",
    "            print(\"Username already exists. Please choose a different username.\")\n",
    "            return False\n",
    "    # If the username is unique, add the new user\n",
    "    users.append({'username': username, 'password': password})\n",
    "    # prefix a string with the letter 'f' to create an fstring. The letter 'f' also indicates that these strings are used for formatting.\n",
    "    print(f\"User {username} added successfully.\") \n",
    "    return True"
   ]
  },
  {
   "cell_type": "code",
   "execution_count": 4,
   "id": "8d13d1ed",
   "metadata": {},
   "outputs": [],
   "source": [
    "# User Authentication\n",
    "def login(username, password):\n",
    "    for user in users:\n",
    "        if user['username'] == username and user['password'] == password:\n",
    "            print(\"Access Granted\")\n",
    "            return True\n",
    "    print(\"Access Denied, Either Incorrect Username or Incorrect Password or Both \")\n",
    "    return False"
   ]
  },
  {
   "cell_type": "code",
   "execution_count": 5,
   "id": "60a463aa",
   "metadata": {},
   "outputs": [],
   "source": [
    "# Category Management\n",
    "def add_category(name):\n",
    "    if name not in categories:\n",
    "        categories[name] = []"
   ]
  },
  {
   "cell_type": "code",
   "execution_count": 6,
   "id": "ebbe4714",
   "metadata": {},
   "outputs": [],
   "source": [
    "# Update / Modify Category Name\n",
    "def update_category(old_name, new_name):\n",
    "    if old_name in categories:\n",
    "        categories[new_name] = categories.pop(old_name)"
   ]
  },
  {
   "cell_type": "code",
   "execution_count": 7,
   "id": "bf41a69b",
   "metadata": {},
   "outputs": [],
   "source": [
    "def add_to_cart(username, category, item):\n",
    "\n",
    "    user_exists = any(user['username'] == username for user in users)\n",
    "    if not user_exists:\n",
    "        print(f\"User {username} does not exist.\")\n",
    "        return False\n",
    "\n",
    "    if username not in carts:\n",
    "        carts[username] = []\n",
    "    carts[username].append({'category': category, 'item': item})\n",
    "    print(f\"Item {item} added to {username}'s cart.\")\n",
    "    return True"
   ]
  },
  {
   "cell_type": "code",
   "execution_count": 8,
   "id": "a4dc32c8",
   "metadata": {},
   "outputs": [],
   "source": [
    "def remove_from_cart(username, category, item):\n",
    "    if username in carts:\n",
    "        # Filter out the item to be removed based on category and item name\n",
    "        carts[username] = [cart_item for cart_item in carts[username] if not (cart_item['category'] == category and cart_item['item'] == item)]\n",
    "        print(f\"Item {item} removed from {username}'s cart.\")\n",
    "    else:\n",
    "        print(f\"No cart found for user {username}.\")"
   ]
  },
  {
   "cell_type": "code",
   "execution_count": 9,
   "id": "3321da04",
   "metadata": {},
   "outputs": [],
   "source": [
    "def process_payment(username, amount, payment_method):\n",
    "    # Check if the payment method is supported\n",
    "    if payment_method in payments:\n",
    "        print(f\"Payment of {amount} using {payment_method} for user {username} processed successfully. Expect the Order within today \")\n",
    "    else:\n",
    "        print(\"Unsupported payment method.\")"
   ]
  },
  {
   "cell_type": "markdown",
   "id": "cd9b74b0-b5d0-4830-8fa4-1c0589979c53",
   "metadata": {},
   "source": [
    "## Program output checking"
   ]
  },
  {
   "cell_type": "code",
   "execution_count": 10,
   "id": "55064891",
   "metadata": {},
   "outputs": [
    {
     "data": {
      "text/plain": [
       "[{'username': 'U1', 'password': 'P1'}, {'username': 'U2', 'password': 'P2'}]"
      ]
     },
     "execution_count": 10,
     "metadata": {},
     "output_type": "execute_result"
    }
   ],
   "source": [
    "users"
   ]
  },
  {
   "cell_type": "code",
   "execution_count": 11,
   "id": "466cd0ac",
   "metadata": {},
   "outputs": [
    {
     "name": "stdout",
     "output_type": "stream",
     "text": [
      "Username already exists. Please choose a different username.\n"
     ]
    },
    {
     "data": {
      "text/plain": [
       "False"
      ]
     },
     "execution_count": 11,
     "metadata": {},
     "output_type": "execute_result"
    }
   ],
   "source": [
    "# A new User Comes and enter the Username : U1\n",
    "add_user(\"U1\",\"Password\")"
   ]
  },
  {
   "cell_type": "code",
   "execution_count": 12,
   "id": "625f1138",
   "metadata": {},
   "outputs": [
    {
     "data": {
      "text/plain": [
       "[{'username': 'U1', 'password': 'P1'}, {'username': 'U2', 'password': 'P2'}]"
      ]
     },
     "execution_count": 12,
     "metadata": {},
     "output_type": "execute_result"
    }
   ],
   "source": [
    "users"
   ]
  },
  {
   "cell_type": "code",
   "execution_count": 13,
   "id": "61cd7b98",
   "metadata": {},
   "outputs": [
    {
     "name": "stdout",
     "output_type": "stream",
     "text": [
      "User Georgy added successfully.\n"
     ]
    },
    {
     "data": {
      "text/plain": [
       "True"
      ]
     },
     "execution_count": 13,
     "metadata": {},
     "output_type": "execute_result"
    }
   ],
   "source": [
    "add_user(\"Georgy\",\"123\")"
   ]
  },
  {
   "cell_type": "code",
   "execution_count": 14,
   "id": "8a367980",
   "metadata": {},
   "outputs": [
    {
     "data": {
      "text/plain": [
       "[{'username': 'U1', 'password': 'P1'},\n",
       " {'username': 'U2', 'password': 'P2'},\n",
       " {'username': 'Georgy', 'password': '123'}]"
      ]
     },
     "execution_count": 14,
     "metadata": {},
     "output_type": "execute_result"
    }
   ],
   "source": [
    "users"
   ]
  },
  {
   "cell_type": "code",
   "execution_count": 15,
   "id": "03b3f59b",
   "metadata": {},
   "outputs": [
    {
     "name": "stdout",
     "output_type": "stream",
     "text": [
      "Access Granted\n"
     ]
    },
    {
     "data": {
      "text/plain": [
       "True"
      ]
     },
     "execution_count": 15,
     "metadata": {},
     "output_type": "execute_result"
    }
   ],
   "source": [
    "# Now checking for the login of a new user: Authentication\n",
    "\n",
    "login(\"Georgy\", \"123\")\n",
    "\n",
    "# This function will return me True when the user exists, and the credentials entered by the user are correct.\n"
   ]
  },
  {
   "cell_type": "code",
   "execution_count": 16,
   "id": "9d6ac7b4",
   "metadata": {},
   "outputs": [
    {
     "name": "stdout",
     "output_type": "stream",
     "text": [
      "Access Denied, Either Incorrect Username or Incorrect Password or Both \n"
     ]
    },
    {
     "data": {
      "text/plain": [
       "False"
      ]
     },
     "execution_count": 16,
     "metadata": {},
     "output_type": "execute_result"
    }
   ],
   "source": [
    "# If not then, it will throw the error\n",
    "\n",
    "login(\"Georgy\", \"1234\")"
   ]
  },
  {
   "cell_type": "code",
   "execution_count": 17,
   "id": "dd888135",
   "metadata": {},
   "outputs": [
    {
     "data": {
      "text/plain": [
       "{'footwear': [], 'clothing': [], 'Electronics': []}"
      ]
     },
     "execution_count": 17,
     "metadata": {},
     "output_type": "execute_result"
    }
   ],
   "source": [
    "# Checking existing category\n",
    "\n",
    "categories"
   ]
  },
  {
   "cell_type": "code",
   "execution_count": 18,
   "id": "029147d0",
   "metadata": {},
   "outputs": [],
   "source": [
    "# Adding new category : Kitchen appliances\n",
    "\n",
    "# add_category(\"\")\n",
    "\n",
    "add_category(\"Groceries\") \n",
    "add_category(\"Toys\") # Babies"
   ]
  },
  {
   "cell_type": "code",
   "execution_count": 19,
   "id": "3d4cf497",
   "metadata": {},
   "outputs": [
    {
     "data": {
      "text/plain": [
       "{'footwear': [],\n",
       " 'clothing': [],\n",
       " 'Electronics': [],\n",
       " 'Groceries': [],\n",
       " 'Toys': []}"
      ]
     },
     "execution_count": 19,
     "metadata": {},
     "output_type": "execute_result"
    }
   ],
   "source": [
    "categories"
   ]
  },
  {
   "cell_type": "code",
   "execution_count": 20,
   "id": "b1a308a7",
   "metadata": {},
   "outputs": [],
   "source": [
    "# Changing Category name\n",
    "\n",
    "update_category(\"Toys\", \"Baby toys\")"
   ]
  },
  {
   "cell_type": "code",
   "execution_count": 21,
   "id": "2af53b7a",
   "metadata": {},
   "outputs": [
    {
     "data": {
      "text/plain": [
       "{'footwear': [],\n",
       " 'clothing': [],\n",
       " 'Electronics': [],\n",
       " 'Groceries': [],\n",
       " 'Baby toys': []}"
      ]
     },
     "execution_count": 21,
     "metadata": {},
     "output_type": "execute_result"
    }
   ],
   "source": [
    "categories"
   ]
  },
  {
   "cell_type": "code",
   "execution_count": 22,
   "id": "99348a2d",
   "metadata": {},
   "outputs": [
    {
     "name": "stdout",
     "output_type": "stream",
     "text": [
      "Item Hoodie added to Georgy's cart.\n",
      "Item Building blocks added to U1's cart.\n"
     ]
    },
    {
     "data": {
      "text/plain": [
       "True"
      ]
     },
     "execution_count": 22,
     "metadata": {},
     "output_type": "execute_result"
    }
   ],
   "source": [
    "add_to_cart(\"Georgy\", \"clothing\", \"Hoodie\")\n",
    "add_to_cart(\"U1\", \"Baby toys\", \"Building blocks\")"
   ]
  },
  {
   "cell_type": "code",
   "execution_count": 23,
   "id": "a30e3822",
   "metadata": {},
   "outputs": [
    {
     "data": {
      "text/plain": [
       "{'Georgy': [{'category': 'clothing', 'item': 'Hoodie'}],\n",
       " 'U1': [{'category': 'Baby toys', 'item': 'Building blocks'}]}"
      ]
     },
     "execution_count": 23,
     "metadata": {},
     "output_type": "execute_result"
    }
   ],
   "source": [
    "carts"
   ]
  },
  {
   "cell_type": "code",
   "execution_count": 24,
   "id": "b74ee573",
   "metadata": {},
   "outputs": [
    {
     "name": "stdout",
     "output_type": "stream",
     "text": [
      "Item Building blocks removed from U1's cart.\n"
     ]
    }
   ],
   "source": [
    "# Now removal of some item\n",
    "\n",
    "remove_from_cart(\"U1\", \"Baby toys\", \"Building blocks\")  "
   ]
  },
  {
   "cell_type": "code",
   "execution_count": 25,
   "id": "85c16a50",
   "metadata": {},
   "outputs": [
    {
     "data": {
      "text/plain": [
       "{'Georgy': [{'category': 'clothing', 'item': 'Hoodie'}], 'U1': []}"
      ]
     },
     "execution_count": 25,
     "metadata": {},
     "output_type": "execute_result"
    }
   ],
   "source": [
    "carts"
   ]
  },
  {
   "cell_type": "code",
   "execution_count": 26,
   "id": "5980e11b",
   "metadata": {},
   "outputs": [
    {
     "name": "stdout",
     "output_type": "stream",
     "text": [
      "Unsupported payment method.\n"
     ]
    }
   ],
   "source": [
    "# Process the payment.\n",
    "process_payment(\"Georgy\", 1000, \"Phone Pe\")\n",
    "\n",
    "# Paytm is not a valid payment method in our database"
   ]
  },
  {
   "cell_type": "code",
   "execution_count": 27,
   "id": "e0f3c7ec",
   "metadata": {},
   "outputs": [
    {
     "name": "stdout",
     "output_type": "stream",
     "text": [
      "Payment of 1000 using UPI for user GEORGY processed successfully. Expect the Order within today \n"
     ]
    }
   ],
   "source": [
    "process_payment(\"GEORGY\", 1000, \"UPI\")\n"
   ]
  }
 ],
 "metadata": {
  "kernelspec": {
   "display_name": "Python 3 [3.10]",
   "language": "python",
   "name": "python3"
  },
  "language_info": {
   "codemirror_mode": {
    "name": "ipython",
    "version": 3
   },
   "file_extension": ".py",
   "mimetype": "text/x-python",
   "name": "python",
   "nbconvert_exporter": "python",
   "pygments_lexer": "ipython3",
   "version": "3.10.2"
  }
 },
 "nbformat": 4,
 "nbformat_minor": 5
}
